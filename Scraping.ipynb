{
  "nbformat": 4,
  "nbformat_minor": 0,
  "metadata": {
    "colab": {
      "provenance": [],
      "authorship_tag": "ABX9TyNndYf+TqdIYxZBIdsmrf0o",
      "include_colab_link": true
    },
    "kernelspec": {
      "name": "python3",
      "display_name": "Python 3"
    },
    "language_info": {
      "name": "python"
    }
  },
  "cells": [
    {
      "cell_type": "markdown",
      "metadata": {
        "id": "view-in-github",
        "colab_type": "text"
      },
      "source": [
        "<a href=\"https://colab.research.google.com/github/NafisIrtija/AutomationUsingPython/blob/main/Scraping.ipynb\" target=\"_parent\"><img src=\"https://colab.research.google.com/assets/colab-badge.svg\" alt=\"Open In Colab\"/></a>"
      ]
    },
    {
      "cell_type": "code",
      "source": [
        "## Local Options\n",
        "# from selenium import webdriver\n",
        "# from selenium.webdriver.chrome.service import Service\n",
        "# driverPath = \"/path/to/chromedriver\"\n",
        "# service = Service(executable_path=driverPath)"
      ],
      "metadata": {
        "id": "W1mSdrcAudSd"
      },
      "execution_count": null,
      "outputs": []
    },
    {
      "cell_type": "code",
      "source": [
        "# For Colab\n",
        "#%pip install -q google-colab-selenium\n",
        "import google_colab_selenium as gs"
      ],
      "metadata": {
        "id": "t73NXMNF8K9f"
      },
      "execution_count": null,
      "outputs": []
    },
    {
      "cell_type": "code",
      "source": [
        "from selenium.webdriver.chrome.options import Options"
      ],
      "metadata": {
        "id": "EY4MhEHa8oEY"
      },
      "execution_count": null,
      "outputs": []
    },
    {
      "cell_type": "code",
      "source": [
        "from datetime import datetime\n",
        "import os\n",
        "import sys\n",
        "import pandas as pd"
      ],
      "metadata": {
        "id": "RtXgN5wR9uwr"
      },
      "execution_count": null,
      "outputs": []
    },
    {
      "cell_type": "code",
      "source": [
        "'''\n",
        "//tagName[i] \\\\\n",
        "//tagName[@attributeName=\"value\"] \\\\\n",
        "contains() : //tagName[contains(@attributeName,\"value\")] \\\\\n",
        "starts-with() : \\\\\n",
        "/text() \\\\\n",
        "\\/ selects the children \\\\\n",
        "\\. current node \\\\\n",
        "\\.. parent node \\\\\n",
        "\\* all children \\\\\n",
        "'''"
      ],
      "metadata": {
        "id": "1vPJb2n390tp"
      },
      "execution_count": null,
      "outputs": []
    },
    {
      "cell_type": "code",
      "source": [
        "options = Options()\n",
        "# options.headless = True"
      ],
      "metadata": {
        "id": "drEAKLvN86kf"
      },
      "execution_count": null,
      "outputs": []
    },
    {
      "cell_type": "code",
      "source": [
        "application_path = os.path.dirname(sys.executable)"
      ],
      "metadata": {
        "id": "nngyErBQ-cQM"
      },
      "execution_count": null,
      "outputs": []
    },
    {
      "cell_type": "code",
      "source": [
        "now = datetime.now()\n",
        "month_day_year = now.strftime(\"%m%d%y\")"
      ],
      "metadata": {
        "id": "vKiGOW9G-lPJ"
      },
      "execution_count": null,
      "outputs": []
    },
    {
      "cell_type": "code",
      "source": [
        "# driver = webdriver.Chrome(service=service, options=options)\n",
        "driver = gs.Chrome(options=options)"
      ],
      "metadata": {
        "id": "t-LuvtgS86T2"
      },
      "execution_count": null,
      "outputs": []
    },
    {
      "cell_type": "code",
      "source": [
        "url = \"https://www.theguardian.com/us\""
      ],
      "metadata": {
        "id": "_B3YhA4Ju-um"
      },
      "execution_count": null,
      "outputs": []
    },
    {
      "cell_type": "code",
      "source": [
        "driver.get(url)"
      ],
      "metadata": {
        "id": "-08GBWbSvnDY"
      },
      "execution_count": null,
      "outputs": []
    },
    {
      "cell_type": "code",
      "source": [
        "# Finding Elements\n",
        "containers = driver.find_elements(by='xpath', value='//h3[@class=\"card-headline dcr-1ufyzmg\"]')\n",
        "\n",
        "titles = []\n",
        "subtitles = []\n",
        "for container in containers:\n",
        "    title = container.find_element(by='xpath', value='./div').text\n",
        "    subtitle = container.find_element(by='xpath', value='./span').text\n",
        "    titles.append(title)\n",
        "    subtitles.append(subtitle)"
      ],
      "metadata": {
        "id": "jjgLH1qQyJ3Q"
      },
      "execution_count": null,
      "outputs": []
    },
    {
      "cell_type": "code",
      "source": [
        "hl_dict = {'title':titles, 'subtitle':subtitles}\n",
        "df_headlines = pd.dataframe(hl_dict)\n",
        "file_name = f'headline-{month_day_year}.csv'\n",
        "file_name = os.path.join(application_path, file_name)\n",
        "df_headlines.to_csv(file_name)"
      ],
      "metadata": {
        "id": "72efdHmN-vSL"
      },
      "execution_count": null,
      "outputs": []
    },
    {
      "cell_type": "code",
      "source": [
        "driver.quit()"
      ],
      "metadata": {
        "id": "uswyoMNd7H_k"
      },
      "execution_count": null,
      "outputs": []
    }
  ]
}